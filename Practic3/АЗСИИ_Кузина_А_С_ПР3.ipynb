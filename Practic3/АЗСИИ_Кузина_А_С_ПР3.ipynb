{
  "nbformat": 4,
  "nbformat_minor": 0,
  "metadata": {
    "colab": {
      "provenance": []
    },
    "kernelspec": {
      "name": "python3",
      "display_name": "Python 3"
    },
    "language_info": {
      "name": "python"
    }
  },
  "cells": [
    {
      "cell_type": "markdown",
      "source": [
        "# **Практика 3: Атака Carlini-Wagner (CW) на модели ИИ**"
      ],
      "metadata": {
        "id": "jjDAgk_YH8x7"
      }
    },
    {
      "cell_type": "markdown",
      "source": [
        "Выполнил(а) студент **2** курса группы: **ББМО-02-23**\n",
        "\n",
        "ФИО: **Кузина Анастасия Сергеевна**"
      ],
      "metadata": {
        "id": "8s3kkHouIBd9"
      }
    },
    {
      "cell_type": "markdown",
      "source": [
        " # **Цель задания:**\n",
        "\n",
        " Изучить одну из наиболее мощных атак на модели ИИ — атаку Carlini-Wagner (CW).\n",
        ""
      ],
      "metadata": {
        "id": "xoHrIGD5IFf0"
      }
    },
    {
      "cell_type": "markdown",
      "source": [
        " # **Задача:**\n",
        " Научиться использовать CW для создания противоречивых примеров и исследовать влияние этой атаки на обученные модели"
      ],
      "metadata": {
        "id": "_jkWC2TeIb2p"
      }
    },
    {
      "cell_type": "markdown",
      "source": [
        "#  **Задачи:**\n",
        " 1. Загрузить ранее обученную модель на датасете **MNIST**.\n",
        " 2. Изучить теоретические основы атаки **Carlini-Wagner**.\n",
        " 3. Реализовать атаку **CW** с помощью фреймворка **Foolbox**.\n",
        " 4. Оценить точность модели на противоречивых примерах и сравнить с результатами на обычных данных"
      ],
      "metadata": {
        "id": "iq8RMFngIdoK"
      }
    },
    {
      "cell_type": "markdown",
      "source": [
        "# **Шаги выполнения:**"
      ],
      "metadata": {
        "id": "vaT35zLiIuzb"
      }
    },
    {
      "cell_type": "markdown",
      "source": [
        "## **Шаг 1: Загрузка обученной модели и данных MNIST**"
      ],
      "metadata": {
        "id": "3eVI-fu-Ivgs"
      }
    },
    {
      "cell_type": "markdown",
      "source": [
        " Мы начнем с загрузки уже обученной модели и данных MNIST для их использования в атаке."
      ],
      "metadata": {
        "id": "PRWoH8MtI2nN"
      }
    },
    {
      "cell_type": "code",
      "source": [
        "import tensorflow as tf\n",
        "from tensorflow.keras.datasets import mnist\n",
        "from tensorflow.keras.utils import to_categorical\n",
        "# Загрузка тестовых данных MNIST:\n",
        "(_, _), (test_images, test_labels) = mnist.load_data()\n",
        "# Нормализация данных\n",
        "test_images = test_images / 255.0\n",
        "# Преобразование меток в формат one-hot:\n",
        "test_labels = to_categorical(test_labels, num_classes=10)\n",
        "# Загрузка обученной модели:\n",
        "model = tf.keras.models.load_model('/content/mnist_model.h5')\n",
        "# Проверка точности модели на обычных данных:\n",
        "test_loss, test_acc = model.evaluate(test_images, test_labels)\n",
        "print(f'Test accuracy on clean images: {test_acc}')"
      ],
      "metadata": {
        "colab": {
          "base_uri": "https://localhost:8080/"
        },
        "id": "3pd8DE9YI3tN",
        "outputId": "006efdaf-3784-49e2-b85d-da2e609aabba"
      },
      "execution_count": 1,
      "outputs": [
        {
          "output_type": "stream",
          "name": "stdout",
          "text": [
            "Downloading data from https://storage.googleapis.com/tensorflow/tf-keras-datasets/mnist.npz\n",
            "\u001b[1m11490434/11490434\u001b[0m \u001b[32m━━━━━━━━━━━━━━━━━━━━\u001b[0m\u001b[37m\u001b[0m \u001b[1m0s\u001b[0m 0us/step\n"
          ]
        },
        {
          "output_type": "stream",
          "name": "stderr",
          "text": [
            "WARNING:absl:Compiled the loaded model, but the compiled metrics have yet to be built. `model.compile_metrics` will be empty until you train or evaluate the model.\n"
          ]
        },
        {
          "output_type": "stream",
          "name": "stdout",
          "text": [
            "\u001b[1m313/313\u001b[0m \u001b[32m━━━━━━━━━━━━━━━━━━━━\u001b[0m\u001b[37m\u001b[0m \u001b[1m2s\u001b[0m 4ms/step - accuracy: 0.9729 - loss: 0.0920\n",
            "Test accuracy on clean images: 0.975600004196167\n"
          ]
        }
      ]
    },
    {
      "cell_type": "markdown",
      "source": [
        "##**Шаг 2: Теория Carlini-Wagner Attack**"
      ],
      "metadata": {
        "id": "WrUTay4JJDCP"
      }
    },
    {
      "cell_type": "markdown",
      "source": [
        "**Атака Carlini-Wagner (CW)**— это одна из наиболее эффективных атак, созданных для введения\n",
        "моделей в заблуждение. В отличие от **FGSM**, **CW** использует оптимизационный подход для создания минимальных изменений в изображении, которые приводят к ошибке в классификации модели.\n",
        "\n",
        "**Цель атаки**     — найти минимальные изменения в изображении, которые переводят его в другую\n",
        "категорию, оставаясь при этом визуально неотличимыми от оригинала.\n",
        "\n",
        "Атака **CW** может быть настроена по нескольким параметрам, например, для минимизации **L2**, **L0** или **L∞ норм*, что определяет, как именно модифицируется изображение"
      ],
      "metadata": {
        "id": "awjrKZuOJIA_"
      }
    },
    {
      "cell_type": "markdown",
      "source": [
        "##**Шаг 3: Установка Foolbox и запуск CW-атаки**"
      ],
      "metadata": {
        "id": "n2Y_GFSUJUFk"
      }
    },
    {
      "cell_type": "markdown",
      "source": [
        "### Для реализации атаки **Carlini-Wagner** будем использовать фреймворк **Foolbox**, который предоставляет удобные методы для выполнения различных атак на модели ИИ."
      ],
      "metadata": {
        "id": "Wdyb8eqeJajy"
      }
    },
    {
      "cell_type": "code",
      "source": [
        "!pip install foolbox"
      ],
      "metadata": {
        "colab": {
          "base_uri": "https://localhost:8080/"
        },
        "id": "ujDzWqTkJeUL",
        "outputId": "02bc321b-e447-4c69-9f6e-e036fd2a60d9"
      },
      "execution_count": 2,
      "outputs": [
        {
          "output_type": "stream",
          "name": "stdout",
          "text": [
            "Collecting foolbox\n",
            "  Downloading foolbox-3.3.4-py3-none-any.whl.metadata (7.3 kB)\n",
            "Requirement already satisfied: numpy in /usr/local/lib/python3.10/dist-packages (from foolbox) (1.26.4)\n",
            "Requirement already satisfied: scipy in /usr/local/lib/python3.10/dist-packages (from foolbox) (1.13.1)\n",
            "Requirement already satisfied: setuptools in /usr/local/lib/python3.10/dist-packages (from foolbox) (75.1.0)\n",
            "Collecting eagerpy>=0.30.0 (from foolbox)\n",
            "  Downloading eagerpy-0.30.0-py3-none-any.whl.metadata (5.5 kB)\n",
            "Requirement already satisfied: GitPython>=3.0.7 in /usr/local/lib/python3.10/dist-packages (from foolbox) (3.1.43)\n",
            "Requirement already satisfied: typing-extensions>=3.7.4.1 in /usr/local/lib/python3.10/dist-packages (from foolbox) (4.12.2)\n",
            "Requirement already satisfied: requests>=2.24.0 in /usr/local/lib/python3.10/dist-packages (from foolbox) (2.32.3)\n",
            "Requirement already satisfied: gitdb<5,>=4.0.1 in /usr/local/lib/python3.10/dist-packages (from GitPython>=3.0.7->foolbox) (4.0.11)\n",
            "Requirement already satisfied: charset-normalizer<4,>=2 in /usr/local/lib/python3.10/dist-packages (from requests>=2.24.0->foolbox) (3.4.0)\n",
            "Requirement already satisfied: idna<4,>=2.5 in /usr/local/lib/python3.10/dist-packages (from requests>=2.24.0->foolbox) (3.10)\n",
            "Requirement already satisfied: urllib3<3,>=1.21.1 in /usr/local/lib/python3.10/dist-packages (from requests>=2.24.0->foolbox) (2.2.3)\n",
            "Requirement already satisfied: certifi>=2017.4.17 in /usr/local/lib/python3.10/dist-packages (from requests>=2.24.0->foolbox) (2024.8.30)\n",
            "Requirement already satisfied: smmap<6,>=3.0.1 in /usr/local/lib/python3.10/dist-packages (from gitdb<5,>=4.0.1->GitPython>=3.0.7->foolbox) (5.0.1)\n",
            "Downloading foolbox-3.3.4-py3-none-any.whl (1.7 MB)\n",
            "\u001b[2K   \u001b[90m━━━━━━━━━━━━━━━━━━━━━━━━━━━━━━━━━━━━━━━━\u001b[0m \u001b[32m1.7/1.7 MB\u001b[0m \u001b[31m26.0 MB/s\u001b[0m eta \u001b[36m0:00:00\u001b[0m\n",
            "\u001b[?25hDownloading eagerpy-0.30.0-py3-none-any.whl (31 kB)\n",
            "Installing collected packages: eagerpy, foolbox\n",
            "Successfully installed eagerpy-0.30.0 foolbox-3.3.4\n"
          ]
        }
      ]
    },
    {
      "cell_type": "markdown",
      "source": [
        "### Реализация атаки **Carlini-Wagner**:"
      ],
      "metadata": {
        "id": "4iEyrKO3Jhuf"
      }
    },
    {
      "cell_type": "code",
      "source": [
        "import foolbox as fb\n",
        "import numpy as np\n",
        "import tensorflow as tf\n",
        "import matplotlib.pyplot as plt\n",
        "\n",
        "# Инициализация Foolbox модели:\n",
        "fmodel = fb.TensorFlowModel(model, bounds=(-1, 1))\n",
        "\n",
        "# Выбор изображения для атаки (например, первое изображение из тестового набора):\n",
        "# Добавление размерности для батча:\n",
        "image = tf.convert_to_tensor(test_images[3], dtype=tf.float32)[None, ...]\n",
        "# Получение индекса класса:\n",
        "label = np.argmax(test_labels[0])\n",
        "# Преобразование в тензор:\n",
        "label = tf.convert_to_tensor(label, dtype=tf.int64)\n",
        "\n",
        "# Создание атаки Carlini-Wagner:\n",
        "attack = fb.attacks.L2CarliniWagnerAttack(steps=10)\n",
        "# Выполнение атаки:\n",
        "adversarial_image, _, success = attack(fmodel, image, label[None], epsilons=0.01)\n",
        "\n",
        "# Вывод результатов:\n",
        "plt.figure(figsize=(20, 20))\n",
        "plt.subplot(1, 2, 1)\n",
        "plt.title(\"Оригинальное изображение\")\n",
        "plt.imshow(image[0].numpy(), cmap=\"gray\")\n",
        "plt.axis('off')\n",
        "\n",
        "plt.subplot(1, 2, 2)\n",
        "plt.title(\"Противоречивое изображение (CW Attack)\")\n",
        "plt.imshow(adversarial_image[0].numpy(), cmap=\"gray\")\n",
        "plt.axis('off')\n",
        "\n",
        "plt.show()"
      ],
      "metadata": {
        "colab": {
          "base_uri": "https://localhost:8080/",
          "height": 624
        },
        "id": "VRcL1McaJnVv",
        "outputId": "08ec2b55-9c4a-4248-f403-8384c0518da4"
      },
      "execution_count": 11,
      "outputs": [
        {
          "output_type": "display_data",
          "data": {
            "text/plain": [
              "<Figure size 2000x2000 with 2 Axes>"
            ],
            "image/png": "[encoded data removed]"
          },
          "metadata": {}
        }
      ]
    },
    {
      "cell_type": "markdown",
      "source": [
        "##**Шаг 4: Оценка модели на противоречивых примерах**"
      ],
      "metadata": {
        "id": "qhU6cizCKDJ6"
      }
    },
    {
      "cell_type": "markdown",
      "source": [
        "### После того, как мы сгенерировали противоречивые примеры, мы можем оценить, насколько атака **Carlini-Wagner** влияет на производительность модели."
      ],
      "metadata": {
        "id": "LmiEjD2KKRNJ"
      }
    },
    {
      "cell_type": "code",
      "source": [
        "# Установка количества обрабатываемых изображений:\n",
        "adversarial_images = []\n",
        "num_images = min(100, len(test_images))\n",
        "\n",
        "# Обработка изображений:\n",
        "for i in range(num_images):\n",
        "    image = tf.convert_to_tensor(test_images[i], dtype=tf.float32)[None, ...]\n",
        "    label = np.argmax(test_labels[i])\n",
        "    label = tf.convert_to_tensor(label, dtype=tf.int64)\n",
        "    advs, _, success = attack(fmodel, image, label[None], epsilons=0.01)\n",
        "    adversarial_images.append(advs)\n",
        "\n",
        "# Конвертация списка в массив с правильной формой:\n",
        "adversarial_images = tf.concat(adversarial_images, axis=0)\n",
        "\n",
        "# Проверка, что test_labels имеют соответствующее количество меток:\n",
        "adversarial_loss, adversarial_acc = model.evaluate(adversarial_images, test_labels[:num_images])\n",
        "print(f'Accuracy on adversarial examples (CW attack): {adversarial_acc}')"
      ],
      "metadata": {
        "colab": {
          "base_uri": "https://localhost:8080/"
        },
        "id": "228pYml1KWb9",
        "outputId": "77472e44-3fd8-48d8-c7e7-add6d3588dd1"
      },
      "execution_count": 12,
      "outputs": [
        {
          "output_type": "stream",
          "name": "stdout",
          "text": [
            "\u001b[1m4/4\u001b[0m \u001b[32m━━━━━━━━━━━━━━━━━━━━\u001b[0m\u001b[37m\u001b[0m \u001b[1m0s\u001b[0m 5ms/step - accuracy: 0.0155 - loss: 1.3425 \n",
            "Accuracy on adversarial examples (CW attack): 0.009999999776482582\n"
          ]
        }
      ]
    },
    {
      "cell_type": "markdown",
      "source": [
        "##**Шаг 5: Сравнение результатов**"
      ],
      "metadata": {
        "id": "z1RzKX3QK7RW"
      }
    },
    {
      "cell_type": "markdown",
      "source": [
        "### Наблюдается  резкое падение точности модели на атакованных изображениях, что является ожидаемым результатом из-за особенностей работы атакующих алгоритмов и чувствительности моделей глубокого обучения к небольшим изменениям во входных данных.\n",
        "\n",
        "### Это подчеркивает важность разработки более устойчивых моделей и методов защиты от атак."
      ],
      "metadata": {
        "id": "PAlEQiPWK8Mh"
      }
    }
  ]
}