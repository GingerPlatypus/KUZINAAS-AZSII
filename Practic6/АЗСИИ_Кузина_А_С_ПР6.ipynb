{
  "nbformat": 4,
  "nbformat_minor": 0,
  "metadata": {
    "colab": {
      "provenance": []
    },
    "kernelspec": {
      "name": "python3",
      "display_name": "Python 3"
    },
    "language_info": {
      "name": "python"
    }
  },
  "cells": [
    {
      "cell_type": "markdown",
      "source": [
        "# **Практика 6: Атака по переносу (Transfer Attack) на модели ИИ**"
      ],
      "metadata": {
        "id": "KuDFkN1YJZ_S"
      }
    },
    {
      "cell_type": "markdown",
      "source": [
        "Выполнил(а) студент **2** курса группы: **ББМО-02-23**\n",
        "\n",
        "ФИО: **Кузина Анастасия Сергеевна**"
      ],
      "metadata": {
        "id": "JqZIaM6uJhrZ"
      }
    },
    {
      "cell_type": "markdown",
      "source": [
        "# **Цель задания:**\n",
        "Изучить концепцию атаки по переносу, где противоречивые примеры, созданные для одной модели, используются для атаки на другую модель. Это задание требует создания нескольких моделей, генерации противоречивых примеров для одной модели и проверки их на другой модели."
      ],
      "metadata": {
        "id": "lLqehKvJJjmt"
      }
    },
    {
      "cell_type": "markdown",
      "source": [
        "##**Задачи:**\n",
        "1. Загрузить несколько моделей, обученных на датасете **MNIST**.\n",
        "2. Изучить теоретические основы атаки по переносу.\n",
        "3. Реализовать атаку **FGSM** на одну модель и проверить, как противоречивые примеры влияют на другую модель.\n",
        "4. Оценить точность обеих моделей на противоречивых примерах и проанализировать переносимость атак."
      ],
      "metadata": {
        "id": "5w_2N1XyJpIR"
      }
    },
    {
      "cell_type": "markdown",
      "source": [
        "##**Шаги выполнения:**"
      ],
      "metadata": {
        "id": "YCu13gz8Jvvd"
      }
    },
    {
      "cell_type": "markdown",
      "source": [
        "### **Шаг 1: Загружаем нужные для работы библиотеки**"
      ],
      "metadata": {
        "id": "lknJ05AwKD-N"
      }
    },
    {
      "cell_type": "code",
      "source": [
        "import tensorflow as tf\n",
        "from tensorflow.keras.datasets import mnist\n",
        "from tensorflow.keras.models import Sequential\n",
        "from tensorflow.keras.layers import Dense, Flatten, Conv2D, MaxPooling2D\n",
        "from tensorflow.keras.utils import to_categorical"
      ],
      "metadata": {
        "id": "Nr_Eb4ptKLtF"
      },
      "execution_count": 1,
      "outputs": []
    },
    {
      "cell_type": "markdown",
      "source": [
        "### **Шаг 2: Загрузка датасета MNIST и нормализация данных**"
      ],
      "metadata": {
        "id": "hvwFKvk9KSCX"
      }
    },
    {
      "cell_type": "code",
      "source": [
        "# Загружаем датасет MNIST:\n",
        "(train_images, train_labels), (test_images, test_labels) = mnist.load_data()\n",
        "# Нормализуем данные:\n",
        "train_images = train_images / 255.0\n",
        "test_images = test_images / 255.0\n",
        "# Преобразуем метки в one-hot encoding:\n",
        "train_labels = to_categorical(train_labels)\n",
        "test_labels = to_categorical(test_labels)"
      ],
      "metadata": {
        "colab": {
          "base_uri": "https://localhost:8080/"
        },
        "id": "MRv_zOE2KWgD",
        "outputId": "46f0f8db-a03c-43c7-d1b2-ccf94ccea178"
      },
      "execution_count": 2,
      "outputs": [
        {
          "output_type": "stream",
          "name": "stdout",
          "text": [
            "Downloading data from https://storage.googleapis.com/tensorflow/tf-keras-datasets/mnist.npz\n",
            "\u001b[1m11490434/11490434\u001b[0m \u001b[32m━━━━━━━━━━━━━━━━━━━━\u001b[0m\u001b[37m\u001b[0m \u001b[1m1s\u001b[0m 0us/step\n"
          ]
        }
      ]
    },
    {
      "cell_type": "markdown",
      "source": [
        "### **Шаг 3: Создаем две модели на датасете MNIST**\n",
        "1. Простую полносвязную сеть\n",
        "2. Свёрточную нейронную сеть (**CNN**)"
      ],
      "metadata": {
        "id": "FrHCffizJxi3"
      }
    },
    {
      "cell_type": "code",
      "execution_count": 4,
      "metadata": {
        "colab": {
          "base_uri": "https://localhost:8080/"
        },
        "id": "XiYsd5VWJXTV",
        "outputId": "22f2d2d7-165a-4252-e616-96c4dc2fbc17"
      },
      "outputs": [
        {
          "output_type": "stream",
          "name": "stdout",
          "text": [
            "Epoch 1/5\n",
            "\u001b[1m1875/1875\u001b[0m \u001b[32m━━━━━━━━━━━━━━━━━━━━\u001b[0m\u001b[37m\u001b[0m \u001b[1m6s\u001b[0m 3ms/step - accuracy: 0.8768 - loss: 0.4359\n",
            "Epoch 2/5\n",
            "\u001b[1m1875/1875\u001b[0m \u001b[32m━━━━━━━━━━━━━━━━━━━━\u001b[0m\u001b[37m\u001b[0m \u001b[1m6s\u001b[0m 3ms/step - accuracy: 0.9622 - loss: 0.1265\n",
            "Epoch 3/5\n",
            "\u001b[1m1875/1875\u001b[0m \u001b[32m━━━━━━━━━━━━━━━━━━━━\u001b[0m\u001b[37m\u001b[0m \u001b[1m6s\u001b[0m 3ms/step - accuracy: 0.9770 - loss: 0.0762\n",
            "Epoch 4/5\n",
            "\u001b[1m1875/1875\u001b[0m \u001b[32m━━━━━━━━━━━━━━━━━━━━\u001b[0m\u001b[37m\u001b[0m \u001b[1m5s\u001b[0m 3ms/step - accuracy: 0.9819 - loss: 0.0590\n",
            "Epoch 5/5\n",
            "\u001b[1m1875/1875\u001b[0m \u001b[32m━━━━━━━━━━━━━━━━━━━━\u001b[0m\u001b[37m\u001b[0m \u001b[1m7s\u001b[0m 4ms/step - accuracy: 0.9871 - loss: 0.0410\n",
            "\u001b[1m313/313\u001b[0m \u001b[32m━━━━━━━━━━━━━━━━━━━━\u001b[0m\u001b[37m\u001b[0m \u001b[1m1s\u001b[0m 2ms/step - accuracy: 0.9712 - loss: 0.1021\n"
          ]
        },
        {
          "output_type": "stream",
          "name": "stderr",
          "text": [
            "WARNING:absl:You are saving your model as an HDF5 file via `model.save()` or `keras.saving.save_model(model)`. This file format is considered legacy. We recommend using instead the native Keras format, e.g. `model.save('my_model.keras')` or `keras.saving.save_model(model, 'my_model.keras')`. \n"
          ]
        },
        {
          "output_type": "stream",
          "name": "stdout",
          "text": [
            "Test accuracy on clean images: 0.9751999974250793\n"
          ]
        }
      ],
      "source": [
        "# Создаём простую полносвязную модель (1):\n",
        "model1 = Sequential([Flatten(input_shape=(28, 28)), Dense(128, activation='relu'), Dense(10, activation='softmax')])\n",
        "# Компилируем модель:\n",
        "model1.compile(optimizer='adam', loss='categorical_crossentropy', metrics=['accuracy'])\n",
        "# Обучяем модель:\n",
        "model1.fit(train_images, train_labels, epochs=5)\n",
        "# Проверяем точность модели на обычных данных:\n",
        "test_loss, test_acc = model1.evaluate(test_images, test_labels)\n",
        "print(f'Test accuracy on clean images: {test_acc}')\n",
        "# Сохраняем модель в файл:\n",
        "model1.save('mnist_model_fc.h5')"
      ]
    },
    {
      "cell_type": "code",
      "source": [
        "# Создаём модель свёрточной нейронной сети (2):\n",
        "model2 = Sequential([Conv2D(32, (3, 3), activation='relu', input_shape=(28, 28, 1)), MaxPooling2D((2, 2)), Flatten(), Dense(128, activation='relu'), Dense(10, activation='softmax')])\n",
        "# Компилируем модель:\n",
        "model2.compile(optimizer='adam', loss='categorical_crossentropy', metrics=['accuracy'])\n",
        "# Обучаем модель:\n",
        "model2.fit(train_images, train_labels, epochs=5)\n",
        "# Проверяем точность модели на обычных данных:\n",
        "test_loss, test_acc = model2.evaluate(test_images, test_labels)\n",
        "print(f'Test accuracy on clean images: {test_acc}')\n",
        "# Сохраняем модель в файл:\n",
        "model2.save('mnist_model_с.h5')"
      ],
      "metadata": {
        "colab": {
          "base_uri": "https://localhost:8080/"
        },
        "id": "ZFa0SRtOK6-Q",
        "outputId": "0edcd949-5d2b-4ecc-abe7-0441257b142f"
      },
      "execution_count": 5,
      "outputs": [
        {
          "output_type": "stream",
          "name": "stderr",
          "text": [
            "/usr/local/lib/python3.10/dist-packages/keras/src/layers/convolutional/base_conv.py:107: UserWarning: Do not pass an `input_shape`/`input_dim` argument to a layer. When using Sequential models, prefer using an `Input(shape)` object as the first layer in the model instead.\n",
            "  super().__init__(activity_regularizer=activity_regularizer, **kwargs)\n"
          ]
        },
        {
          "output_type": "stream",
          "name": "stdout",
          "text": [
            "Epoch 1/5\n",
            "\u001b[1m1875/1875\u001b[0m \u001b[32m━━━━━━━━━━━━━━━━━━━━\u001b[0m\u001b[37m\u001b[0m \u001b[1m41s\u001b[0m 21ms/step - accuracy: 0.9141 - loss: 0.2894\n",
            "Epoch 2/5\n",
            "\u001b[1m1875/1875\u001b[0m \u001b[32m━━━━━━━━━━━━━━━━━━━━\u001b[0m\u001b[37m\u001b[0m \u001b[1m39s\u001b[0m 21ms/step - accuracy: 0.9841 - loss: 0.0511\n",
            "Epoch 3/5\n",
            "\u001b[1m1875/1875\u001b[0m \u001b[32m━━━━━━━━━━━━━━━━━━━━\u001b[0m\u001b[37m\u001b[0m \u001b[1m40s\u001b[0m 21ms/step - accuracy: 0.9909 - loss: 0.0293\n",
            "Epoch 4/5\n",
            "\u001b[1m1875/1875\u001b[0m \u001b[32m━━━━━━━━━━━━━━━━━━━━\u001b[0m\u001b[37m\u001b[0m \u001b[1m41s\u001b[0m 21ms/step - accuracy: 0.9932 - loss: 0.0215\n",
            "Epoch 5/5\n",
            "\u001b[1m1875/1875\u001b[0m \u001b[32m━━━━━━━━━━━━━━━━━━━━\u001b[0m\u001b[37m\u001b[0m \u001b[1m41s\u001b[0m 21ms/step - accuracy: 0.9965 - loss: 0.0126\n",
            "\u001b[1m313/313\u001b[0m \u001b[32m━━━━━━━━━━━━━━━━━━━━\u001b[0m\u001b[37m\u001b[0m \u001b[1m2s\u001b[0m 6ms/step - accuracy: 0.9851 - loss: 0.0473\n"
          ]
        },
        {
          "output_type": "stream",
          "name": "stderr",
          "text": [
            "WARNING:absl:You are saving your model as an HDF5 file via `model.save()` or `keras.saving.save_model(model)`. This file format is considered legacy. We recommend using instead the native Keras format, e.g. `model.save('my_model.keras')` or `keras.saving.save_model(model, 'my_model.keras')`. \n"
          ]
        },
        {
          "output_type": "stream",
          "name": "stdout",
          "text": [
            "Test accuracy on clean images: 0.9878000020980835\n"
          ]
        }
      ]
    },
    {
      "cell_type": "markdown",
      "source": [
        "###**Шаг 4: Теория атаки по переносу**"
      ],
      "metadata": {
        "id": "t_7RyORaLf4a"
      }
    },
    {
      "cell_type": "markdown",
      "source": [
        "Атака по переносу — это метод, при котором противоречивые примеры, созданные для одной модели, применяются к другой модели. Это возможно, потому что модели часто имеют схожие слабости и могут совершать одинаковые ошибки на определенных данных, даже если они обучены на разных архитектурах.\n",
        "\n",
        "В этом задании мы создадим противоречивые примеры для первой модели с помощью **FGSM** и затем проверим, насколько эти примеры могут атаковать вторую модель."
      ],
      "metadata": {
        "id": "i3tJmhQ-L_wT"
      }
    },
    {
      "cell_type": "markdown",
      "source": [
        "###**Шаг 5: Реализация атаки FGSM на полносвязную модель**"
      ],
      "metadata": {
        "id": "tDpkZZZwMR8y"
      }
    },
    {
      "cell_type": "code",
      "source": [
        "import numpy as np\n",
        "# Создаём функцию для реализации FGSM атаки:\n",
        "def fgsm_attack(image, epsilon, gradient):\n",
        "  # Применяем знак градиента к изображению:\n",
        "  perturbed_image = image + epsilon * np.sign(gradient)\n",
        "  # Обрезаем значения, чтобы они оставались в пределах [0,1]:\n",
        "  perturbed_image = np.clip(perturbed_image, 0, 1)\n",
        "  return perturbed_image\n",
        "\n",
        "# Вычисляем градиент:\n",
        "def generate_adversarial_example(model, images, labels, epsilon):\n",
        "    adversarial_images = []\n",
        "    # Превращаем изображения в формат, подходящий для модели:\n",
        "    for i in range(len(images)):\n",
        "      image = tf.convert_to_tensor(images[i].reshape((1, 28, 28, 1)))\n",
        "      label = labels[i]\n",
        "      # Преобразуем label (one-hot вектор) в индекс:\n",
        "      if len(label.shape) > 1 and label.shape[1] > 1:\n",
        "          label = np.argmax(label),\n",
        "      label = tf.convert_to_tensor(label)\n",
        "      with tf.GradientTape() as tape:\n",
        "          tape.watch(image)\n",
        "          prediction = model(image)\n",
        "          loss = tf.keras.losses.categorical_crossentropy(label[None], prediction)\n",
        "      gradient = tape.gradient(loss, image)\n",
        "      # Применяем FGSM:\n",
        "      adversarial_image = fgsm_attack(image.numpy(), epsilon, gradient.numpy())\n",
        "      adversarial_images.append(np.reshape(adversarial_image, (28, 28, 1)))\n",
        "    return np.array(adversarial_images)\n",
        "epsilon = 0.1\n",
        "# Создаём противоречивые изображения для простой полносвязной модели:\n",
        "adversarial_example = generate_adversarial_example(model1, test_images, test_labels, epsilon)"
      ],
      "metadata": {
        "id": "k7tA6vARMXsK"
      },
      "execution_count": 6,
      "outputs": []
    },
    {
      "cell_type": "markdown",
      "source": [
        "###**Шаг 6: Визуализация результатов проведенной атаки на полносвязную модель:**"
      ],
      "metadata": {
        "id": "WlVlcIqJM0mp"
      }
    },
    {
      "cell_type": "code",
      "source": [
        "import matplotlib.pyplot as plt\n",
        "import numpy as np\n",
        "\n",
        "# Указываем количество изображений для отображения:\n",
        "num_images = 5\n",
        "# ВЫбираем случайные индексы:\n",
        "random_indices = np.random.choice(len(test_images), num_images, replace=False)\n",
        "\n",
        "# Созданём фигуры:\n",
        "plt.figure(figsize=(15, 6))\n",
        "\n",
        "for i, idx in enumerate(random_indices):\n",
        "    plt.subplot(2, num_images, i + 1)\n",
        "    plt.title(\"Оригинал изображения\")\n",
        "    plt.imshow(test_images[idx], cmap=\"gray\")\n",
        "    plt.axis('off')\n",
        "\n",
        "    plt.subplot(2, num_images, i + 1 + num_images)\n",
        "    plt.title(\"Противоречивое изображение\")\n",
        "    plt.imshow(adversarial_example[idx].reshape(28, 28), cmap=\"gray\")\n",
        "    plt.axis('off')\n",
        "\n",
        "plt.tight_layout()\n",
        "plt.show()"
      ],
      "metadata": {
        "colab": {
          "base_uri": "https://localhost:8080/",
          "height": 530
        },
        "id": "bCSUyizKNBAR",
        "outputId": "b599e93c-27ac-4648-e749-ad5eb833696f"
      },
      "execution_count": 14,
      "outputs": [
        {
          "output_type": "display_data",
          "data": {
            "text/plain": [
              "<Figure size 1500x600 with 10 Axes>"
            ],
            "image/png": "[encoded data removed]"
          },
          "metadata": {}
        }
      ]
    },
    {
      "cell_type": "markdown",
      "source": [
        "###**Шаг 7: Оценка противоречивых примеров на обеих моделях**"
      ],
      "metadata": {
        "id": "PoG1gDc8OEFM"
      }
    },
    {
      "cell_type": "code",
      "source": [
        "# Оценим полносвязную модель на противоречивых примерах:\n",
        "adversarial_loss1, adversarial_acc1 = model1.evaluate(adversarial_example.reshape(10000, 28, 28),\n",
        "test_labels)\n",
        "# Оценим свёрточную модель на противоречивых примерах:\n",
        "adversarial_loss2, adversarial_acc2 = model2.evaluate(adversarial_example.reshape(10000, 28, 28),\n",
        "test_labels)\n",
        "print(f'Точность полносвязной модели: {adversarial_acc1}')\n",
        "print(f'Точность свёрточной модели: {adversarial_acc2}')"
      ],
      "metadata": {
        "colab": {
          "base_uri": "https://localhost:8080/"
        },
        "id": "-enobZB0OHBC",
        "outputId": "514745ce-19de-4044-8a2f-6f85e4f02377"
      },
      "execution_count": 10,
      "outputs": [
        {
          "output_type": "stream",
          "name": "stdout",
          "text": [
            "\u001b[1m313/313\u001b[0m \u001b[32m━━━━━━━━━━━━━━━━━━━━\u001b[0m\u001b[37m\u001b[0m \u001b[1m0s\u001b[0m 1ms/step - accuracy: 0.0798 - loss: 6.3487\n",
            "\u001b[1m313/313\u001b[0m \u001b[32m━━━━━━━━━━━━━━━━━━━━\u001b[0m\u001b[37m\u001b[0m \u001b[1m2s\u001b[0m 6ms/step - accuracy: 0.9564 - loss: 0.1345\n",
            "Точность полносвязной модели: 0.10610000044107437\n",
            "Точность свёрточной модели: 0.9639000296592712\n"
          ]
        }
      ]
    },
    {
      "cell_type": "markdown",
      "source": [
        "**Вывод:** Атака, как видно, оказала незначительное влияние на точность свёрточной модели, снизив её всего на примерно 2% - это свидетельствует о её высокой устойчивости к переноск атак, созданных для полносвязной модели. А вот атака на полносвязную модель оказала очень серьезное влияние на точность, снизив её на 80% - что свидетельствует о её высокой уязвимости к атаке."
      ],
      "metadata": {
        "id": "zuGUhqSSOWNw"
      }
    },
    {
      "cell_type": "markdown",
      "source": [
        "###**Шаг 8: Перейдем к реализации атаки FGSM на свёрточную модель**"
      ],
      "metadata": {
        "id": "S6hptMkUPcYc"
      }
    },
    {
      "cell_type": "code",
      "source": [
        "# Создаём противоречивые изображения для свёрточной модели:\n",
        "adversarial_example1 = generate_adversarial_example(model2, test_images, test_labels, epsilon)"
      ],
      "metadata": {
        "id": "pDOJMB-PPmVA"
      },
      "execution_count": 11,
      "outputs": []
    },
    {
      "cell_type": "markdown",
      "source": [
        "###**Шаг 9: Визуализация результатов проведенной атаки на свёрточную модель:**"
      ],
      "metadata": {
        "id": "v7ZLZ2a6P5CC"
      }
    },
    {
      "cell_type": "code",
      "source": [
        "# Указываем количество изображений для отображения:\n",
        "num_images = 5\n",
        "# ВЫбираем случайные индексы:\n",
        "random_indices = np.random.choice(len(test_images), num_images, replace=False)\n",
        "\n",
        "# Создаём фигуры:\n",
        "plt.figure(figsize=(15, 6))\n",
        "\n",
        "\n",
        "for i, idx in enumerate(random_indices):\n",
        "    plt.subplot(2, num_images, i + 1)\n",
        "    plt.title(\"Оригинал изображения\")\n",
        "    plt.imshow(test_images[idx], cmap=\"gray\")\n",
        "    plt.axis('off')\n",
        "\n",
        "    plt.subplot(2, num_images, i + 1 + num_images)\n",
        "    plt.title(\"Противоречивое изображение\")\n",
        "    plt.imshow(adversarial_example1[idx].reshape(28, 28), cmap=\"gray\")\n",
        "    plt.axis('off')\n",
        "\n",
        "plt.tight_layout()\n",
        "plt.show()"
      ],
      "metadata": {
        "colab": {
          "base_uri": "https://localhost:8080/",
          "height": 530
        },
        "id": "dux4XBaBQD1K",
        "outputId": "ec862fed-f5e6-4f31-e0f1-a639c3adc5fc"
      },
      "execution_count": 13,
      "outputs": [
        {
          "output_type": "display_data",
          "data": {
            "text/plain": [
              "<Figure size 1500x600 with 10 Axes>"
            ],
            "image/png": "[encoded data removed]"
          },
          "metadata": {}
        }
      ]
    },
    {
      "cell_type": "markdown",
      "source": [
        "###**Шаг 10: Оценка противоречивых примеров на обеих моделях**"
      ],
      "metadata": {
        "id": "ryiNjPJJQnjw"
      }
    },
    {
      "cell_type": "code",
      "source": [
        "# Оценка полносвязной модели на противоречивых примерах:\n",
        "adversarial_loss11, adversarial_acc11 = model1.evaluate(adversarial_example1.reshape(10000, 28, 28),\n",
        "test_labels)\n",
        "# Оценка свёрточной модели на противоречивых примерах:\n",
        "adversarial_loss22, adversarial_acc22 = model2.evaluate(adversarial_example1.reshape(10000, 28, 28),\n",
        "test_labels)\n",
        "print(f'Точность полносвязной модели: {adversarial_acc11}')\n",
        "print(f'Точность свёрточной модели: {adversarial_acc22}')"
      ],
      "metadata": {
        "colab": {
          "base_uri": "https://localhost:8080/"
        },
        "id": "R22j_gmoQsRs",
        "outputId": "f2a915d3-1a80-4df3-97d8-85f2cefe05f0"
      },
      "execution_count": 15,
      "outputs": [
        {
          "output_type": "stream",
          "name": "stdout",
          "text": [
            "\u001b[1m313/313\u001b[0m \u001b[32m━━━━━━━━━━━━━━━━━━━━\u001b[0m\u001b[37m\u001b[0m \u001b[1m0s\u001b[0m 1ms/step - accuracy: 0.9515 - loss: 0.1593\n",
            "\u001b[1m313/313\u001b[0m \u001b[32m━━━━━━━━━━━━━━━━━━━━\u001b[0m\u001b[37m\u001b[0m \u001b[1m2s\u001b[0m 5ms/step - accuracy: 0.7267 - loss: 1.0305\n",
            "Точность полносвязной модели: 0.9577000141143799\n",
            "Точность свёрточной модели: 0.7422999739646912\n"
          ]
        }
      ]
    },
    {
      "cell_type": "markdown",
      "source": [
        "**Вывод:** Ситуация совершенно противоположная: теперь свёрточная модель демонстрирует точность ниже, всего 74%, в то время как на полносвязную модель атака оказала незначительное влияние, снизив её точность примерно на 2%. Также сразу заметна разница в помехах на изображении"
      ],
      "metadata": {
        "id": "D2_1-bu7RAQu"
      }
    },
    {
      "cell_type": "markdown",
      "source": [
        "### **Вывод:** Атака FGSM между моделями переносится плохо. Результаты исследований показывают, что атака переноса, осуществляемая с использованием метода FGSM, может значительно снизить точность модели, особенно если атакующие примеры были сгенерированы именно для этой модели. В то же время, другая модель, продемонстрировавшая более высокую устойчивость к подобным атакам, оказывается менее уязвимой. Эти выводы подчеркивают необходимость разработки более защищённых моделей, которые могут сохранять свою точность даже при воздействии атак, перенесённых с других моделей. Кроме того, важно отметить, что создание устойчивых моделей не только повышает их надежность в условиях атак, но и способствует улучшению общей безопасности систем машинного обучения. Это открывает новые горизонты для применения таких моделей в критически важных областях, где точность и безопасность имеют первостепенное значение."
      ],
      "metadata": {
        "id": "qr7e72oTR0Pw"
      }
    }
  ]
}