{
  "nbformat": 4,
  "nbformat_minor": 0,
  "metadata": {
    "colab": {
      "provenance": []
    },
    "kernelspec": {
      "name": "python3",
      "display_name": "Python 3"
    },
    "language_info": {
      "name": "python"
    }
  },
  "cells": [
    {
      "cell_type": "markdown",
      "source": [
        "# **Практика 8: Методы защиты от атак на модели ИИ**"
      ],
      "metadata": {
        "id": "znc6ymXm7GNX"
      }
    },
    {
      "cell_type": "markdown",
      "source": [
        "Выполнил(а) студент **2** курса группы: **ББМО-02-23**\n",
        "\n",
        "ФИО: **Кузина Анастасия Сергеевна**"
      ],
      "metadata": {
        "id": "P4v2NjMR7LFC"
      }
    },
    {
      "cell_type": "markdown",
      "source": [
        "# **Цель задания:**\n",
        "Изучить методы защиты моделей ИИ от различных атак, включая методы защиты на уровне данных,моделирования и обучения. Реализовать эти методы и проверить их эффективность против атак, изученных ранее."
      ],
      "metadata": {
        "id": "7DoowcjQ7MxO"
      }
    },
    {
      "cell_type": "markdown",
      "source": [
        "##**Задачи:**\n",
        "1. Изучить и реализовать защиту модели с помощью тренировок на противоречивых примерах (**Adversarial Training**).\n",
        "2. Реализовать метод защиты на основе градиентной маскировки.\n",
        "3. Использовать регуляризацию и нормализацию для повышения устойчивости модели.\n",
        "4. Проверить эффективность методов защиты против атак **FGSM**, **PGD** и **GAN-based** атак.\n",
        "5. Оценить улучшение точности защищенной модели на противоречивых примерах."
      ],
      "metadata": {
        "id": "8PSEJCcg7Tdw"
      }
    },
    {
      "cell_type": "markdown",
      "source": [
        "##**Шаги выполнения:**"
      ],
      "metadata": {
        "id": "fB4a1Sl77fky"
      }
    },
    {
      "cell_type": "markdown",
      "source": [
        "### **Шаг 1: Защита с помощью Adversarial Training**"
      ],
      "metadata": {
        "id": "bf2WKFJz7htU"
      }
    },
    {
      "cell_type": "markdown",
      "source": [
        " **Adversarial Training** — это метод защиты, который заключается в том, чтобы обучать модель на противоречивых примерах. Этот метод помогает модели научиться быть более устойчивой к атакам, так как она сталкивается с противоречивыми примерами на этапе обучения."
      ],
      "metadata": {
        "id": "X_bIA84t7m5g"
      }
    },
    {
      "cell_type": "code",
      "execution_count": 4,
      "metadata": {
        "colab": {
          "base_uri": "https://localhost:8080/"
        },
        "id": "Jxar0m687BRV",
        "outputId": "393ad266-01cb-4437-fdef-dad219b8c5a3"
      },
      "outputs": [
        {
          "output_type": "stream",
          "name": "stderr",
          "text": [
            "WARNING:absl:You are saving your model as an HDF5 file via `model.save()` or `keras.saving.save_model(model)`. This file format is considered legacy. We recommend using instead the native Keras format, e.g. `model.save('my_model.keras')` or `keras.saving.save_model(model, 'my_model.keras')`. \n"
          ]
        }
      ],
      "source": [
        "import tensorflow as tf\n",
        "import numpy as np\n",
        "from tensorflow.keras.datasets import mnist\n",
        "# Загрузка данных MNIST:\n",
        "(train_images, train_labels), (test_images, test_labels) = mnist.load_data()\n",
        "# Нормализация данных:\n",
        "train_images = train_images / 255.0\n",
        "test_images = test_images / 255.0\n",
        "# Преобразование меток в one-hot encoding:\n",
        "train_labels = tf.keras.utils.to_categorical(train_labels, 10)\n",
        "test_labels = tf.keras.utils.to_categorical(test_labels, 10)\n",
        "# Уменьшаем количество обучающих изображений до 1000:\n",
        "train_images = train_images[:1000]\n",
        "train_labels = train_labels[:1000]\n",
        "# Функция FGSM атаки:\n",
        "def fgsm_attack(image, epsilon, gradient):\n",
        "    perturbation = epsilon * np.sign(gradient)\n",
        "    adversarial_image = image + perturbation\n",
        "    adversarial_image = np.clip(adversarial_image, 0, 1)\n",
        "    return adversarial_image\n",
        "# Функция для генерации противоречивых примеров:\n",
        "def generate_adversarial_examples(model, images, labels, epsilon):\n",
        "    adversarial_images = []\n",
        "    for i in range(len(images)):\n",
        "        image = tf.convert_to_tensor(images[i].reshape((1, 28, 28, 1)), dtype=tf.float32)\n",
        "        label = tf.convert_to_tensor(labels[i].reshape((1, 10)), dtype=tf.float32)\n",
        "        with tf.GradientTape() as tape:\n",
        "            tape.watch(image)\n",
        "            prediction = model(image)\n",
        "            loss = tf.keras.losses.categorical_crossentropy(label, prediction)\n",
        "        gradient = tape.gradient(loss, image)\n",
        "        adversarial_image = fgsm_attack(image.numpy(), epsilon, gradient.numpy())\n",
        "        adversarial_images.append(adversarial_image.reshape(28, 28))\n",
        "    return np.array(adversarial_images)\n",
        "# Создание модели:\n",
        "def create_model():\n",
        "    model = tf.keras.Sequential([\n",
        "        tf.keras.layers.Flatten(input_shape=(28, 28)),\n",
        "        tf.keras.layers.Dense(128, activation='relu'),\n",
        "        tf.keras.layers.Dense(10, activation='softmax')\n",
        "    ])\n",
        "    model.compile(optimizer='adam', loss='categorical_crossentropy', metrics=['accuracy'])\n",
        "    return model\n",
        "# Обучение модели с противоречивыми примерами:\n",
        "def adversarial_training(model, train_images, train_labels, epsilon):\n",
        "    for epoch in range(5):\n",
        "        for i in range(0, len(train_images), 32):\n",
        "            batch_images = train_images[i:i+32]\n",
        "            batch_labels = train_labels[i:i+32]\n",
        "            # Генерация противоречивых примеров для текущей партии данных:\n",
        "            adversarial_images = generate_adversarial_examples(model, batch_images, batch_labels, epsilon)\n",
        "            # Объединение оригинальных и противоречивых примеров:\n",
        "            combined_images = np.concatenate([batch_images, adversarial_images], axis=0)\n",
        "            combined_labels = np.concatenate([batch_labels, batch_labels], axis=0)\n",
        "            # Обучение на комбинированных данных:\n",
        "            model.train_on_batch(combined_images, combined_labels)\n",
        "# Инициализация модели:\n",
        "model = create_model()\n",
        "# Тренировка модели с защитой на противоречивых примерах:\n",
        "adversarial_training(model, train_images, train_labels, epsilon=0.1)\n",
        "# Сохранение защищенной модели:\n",
        "model.save('Adversarial_model.h5')"
      ]
    },
    {
      "cell_type": "markdown",
      "source": [
        "###**Шаг 2: Градиентная маскировка (Gradient Masking)**"
      ],
      "metadata": {
        "id": "EfwtuWylD8i5"
      }
    },
    {
      "cell_type": "markdown",
      "source": [
        " **Gradient Masking** — это метод защиты, который затрудняет доступ к градиентам модели для атак. Он используется для уменьшения информации, доступной для атакующих, и усложнения поиска направленных изменений."
      ],
      "metadata": {
        "id": "QUuEQKjyD_gR"
      }
    },
    {
      "cell_type": "code",
      "source": [
        "import tensorflow as tf\n",
        "from tensorflow.keras.layers import Activation\n",
        "from tensorflow.keras.datasets import mnist\n",
        "from tensorflow.keras.utils import to_categorical\n",
        "# Загрузка и подготовка данных:\n",
        "(train_images, train_labels), (test_images, test_labels) = mnist.load_data()\n",
        "# Нормализация данных:\n",
        "train_images = train_images / 255.0\n",
        "test_images = test_images / 255.0\n",
        "# Преобразование меток в one-hot encoding:\n",
        "train_labels = to_categorical(train_labels, 10)\n",
        "test_labels = to_categorical(test_labels, 10)\n",
        "# Обновление модели для градиентной маскировки:\n",
        "def create_masked_model():\n",
        "    model = tf.keras.Sequential([\n",
        "        tf.keras.layers.Flatten(input_shape=(28, 28)),\n",
        "        tf.keras.layers.Dense(128, activation='relu'),\n",
        "        tf.keras.layers.Dense(10),\n",
        "        Activation('softplus')])\n",
        "    model.compile(optimizer='adam', loss='categorical_crossentropy', metrics=['accuracy'])\n",
        "    return model\n",
        "# Обучение модели с градиентной маскировкой:\n",
        "masked_model = create_masked_model()\n",
        "masked_model.fit(train_images, train_labels, epochs=5)\n",
        "# Сохранение модели с градиентной маскировкой:\n",
        "masked_model.save('Gradient_model.h5')"
      ],
      "metadata": {
        "colab": {
          "base_uri": "https://localhost:8080/"
        },
        "id": "0Y5nG7OQEDd5",
        "outputId": "dbeccf75-8dd3-467d-c464-212d758d5baa"
      },
      "execution_count": 5,
      "outputs": [
        {
          "output_type": "stream",
          "name": "stdout",
          "text": [
            "Epoch 1/5\n",
            "\u001b[1m1875/1875\u001b[0m \u001b[32m━━━━━━━━━━━━━━━━━━━━\u001b[0m\u001b[37m\u001b[0m \u001b[1m6s\u001b[0m 3ms/step - accuracy: 0.8746 - loss: 0.4641\n",
            "Epoch 2/5\n",
            "\u001b[1m1875/1875\u001b[0m \u001b[32m━━━━━━━━━━━━━━━━━━━━\u001b[0m\u001b[37m\u001b[0m \u001b[1m6s\u001b[0m 3ms/step - accuracy: 0.9606 - loss: 0.1362\n",
            "Epoch 3/5\n",
            "\u001b[1m1875/1875\u001b[0m \u001b[32m━━━━━━━━━━━━━━━━━━━━\u001b[0m\u001b[37m\u001b[0m \u001b[1m10s\u001b[0m 3ms/step - accuracy: 0.9730 - loss: 0.0881\n",
            "Epoch 4/5\n",
            "\u001b[1m1875/1875\u001b[0m \u001b[32m━━━━━━━━━━━━━━━━━━━━\u001b[0m\u001b[37m\u001b[0m \u001b[1m7s\u001b[0m 4ms/step - accuracy: 0.9809 - loss: 0.0664\n",
            "Epoch 5/5\n",
            "\u001b[1m1875/1875\u001b[0m \u001b[32m━━━━━━━━━━━━━━━━━━━━\u001b[0m\u001b[37m\u001b[0m \u001b[1m5s\u001b[0m 3ms/step - accuracy: 0.9837 - loss: 0.0534\n"
          ]
        },
        {
          "output_type": "stream",
          "name": "stderr",
          "text": [
            "WARNING:absl:You are saving your model as an HDF5 file via `model.save()` or `keras.saving.save_model(model)`. This file format is considered legacy. We recommend using instead the native Keras format, e.g. `model.save('my_model.keras')` or `keras.saving.save_model(model, 'my_model.keras')`. \n"
          ]
        }
      ]
    },
    {
      "cell_type": "markdown",
      "source": [
        "###**Шаг 3: Регуляризация и нормализация для повышения устойчивости**"
      ],
      "metadata": {
        "id": "PwfCXADMEIme"
      }
    },
    {
      "cell_type": "markdown",
      "source": [
        "Использование таких методов, как **L2-регуляризация**, **дропаут** и **нормализация батчей**, может помочь улучшить устойчивость модели к атакам."
      ],
      "metadata": {
        "id": "wj6Eb_IVEKig"
      }
    },
    {
      "cell_type": "code",
      "source": [
        "# Модель с регуляризацией и нормализацией:\n",
        "def create_regularized_model():\n",
        " model = tf.keras.Sequential([\n",
        " tf.keras.layers.Flatten(input_shape=(28, 28)),\n",
        " tf.keras.layers.Dense(128, activation='relu',\n",
        "kernel_regularizer=tf.keras.regularizers.l2(0.01)),\n",
        " tf.keras.layers.Dropout(0.5),tf.keras.layers.BatchNormalization(),\n",
        " tf.keras.layers.Dense(10, activation='softmax')])\n",
        " model.compile(optimizer='adam', loss='categorical_crossentropy',\n",
        "metrics=['accuracy'])\n",
        " return model\n",
        "# Обучение модели с регуляризацией и нормализацией:\n",
        "regularized_model = create_regularized_model()\n",
        "regularized_model.fit(train_images, train_labels, epochs=5)\n",
        "# Сохранение модели с регуляризацией:\n",
        "regularized_model.save('Regularized_model.h5')"
      ],
      "metadata": {
        "colab": {
          "base_uri": "https://localhost:8080/"
        },
        "id": "CvZ0M_YUETmp",
        "outputId": "a6ce64bd-d670-4722-dada-a340aebd60f4"
      },
      "execution_count": 6,
      "outputs": [
        {
          "output_type": "stream",
          "name": "stdout",
          "text": [
            "Epoch 1/5\n",
            "\u001b[1m1875/1875\u001b[0m \u001b[32m━━━━━━━━━━━━━━━━━━━━\u001b[0m\u001b[37m\u001b[0m \u001b[1m8s\u001b[0m 4ms/step - accuracy: 0.7937 - loss: 1.3337\n",
            "Epoch 2/5\n",
            "\u001b[1m1875/1875\u001b[0m \u001b[32m━━━━━━━━━━━━━━━━━━━━\u001b[0m\u001b[37m\u001b[0m \u001b[1m9s\u001b[0m 3ms/step - accuracy: 0.8701 - loss: 0.6207\n",
            "Epoch 3/5\n",
            "\u001b[1m1875/1875\u001b[0m \u001b[32m━━━━━━━━━━━━━━━━━━━━\u001b[0m\u001b[37m\u001b[0m \u001b[1m10s\u001b[0m 3ms/step - accuracy: 0.8676 - loss: 0.6158\n",
            "Epoch 4/5\n",
            "\u001b[1m1875/1875\u001b[0m \u001b[32m━━━━━━━━━━━━━━━━━━━━\u001b[0m\u001b[37m\u001b[0m \u001b[1m7s\u001b[0m 4ms/step - accuracy: 0.8641 - loss: 0.6126\n",
            "Epoch 5/5\n",
            "\u001b[1m1875/1875\u001b[0m \u001b[32m━━━━━━━━━━━━━━━━━━━━\u001b[0m\u001b[37m\u001b[0m \u001b[1m6s\u001b[0m 3ms/step - accuracy: 0.8574 - loss: 0.6227\n"
          ]
        },
        {
          "output_type": "stream",
          "name": "stderr",
          "text": [
            "WARNING:absl:You are saving your model as an HDF5 file via `model.save()` or `keras.saving.save_model(model)`. This file format is considered legacy. We recommend using instead the native Keras format, e.g. `model.save('my_model.keras')` or `keras.saving.save_model(model, 'my_model.keras')`. \n"
          ]
        }
      ]
    },
    {
      "cell_type": "markdown",
      "source": [
        "###**Шаг 4: Оценка моделей на противоречивых примерах**"
      ],
      "metadata": {
        "id": "tZgSZns6EY_m"
      }
    },
    {
      "cell_type": "markdown",
      "source": [
        "Теперь проверим эффективность всех защитных методов на атакованных данных, созданных с помощью **FGSM** и других методов, таких как **PGD** или **GAN**."
      ],
      "metadata": {
        "id": "QDBXiQ3xEZsh"
      }
    },
    {
      "cell_type": "code",
      "source": [
        "# Загрузка атакованной модели:\n",
        "protected_model = tf.keras.models.load_model('Adversarial_model.h5')\n",
        "# Генерация противоречивых примеров для тестовых данных:\n",
        "adversarial_test_images = generate_adversarial_examples(protected_model, test_images, test_labels, epsilon=0.1)\n",
        "# Оценка модели с Adversarial Training:\n",
        "print(\"Adversarially Trained Model Accuracy on Adversarial Examples:\")\n",
        "adv_loss, adv_acc = protected_model.evaluate(adversarial_test_images, test_labels, verbose=1)\n",
        "# Оценка модели с Gradient Masking:\n",
        "print(\"Masked Model Accuracy on Adversarial Examples:\")\n",
        "masked_loss, masked_acc = masked_model.evaluate(adversarial_test_images, test_labels, verbose=1)\n",
        "# Оценка модели с Регуляризацией и нормализацией:\n",
        "print(\"Regularized Model Accuracy on Adversarial Examples:\")\n",
        "reg_loss, reg_acc = regularized_model.evaluate(adversarial_test_images, test_labels, verbose=1)"
      ],
      "metadata": {
        "colab": {
          "base_uri": "https://localhost:8080/"
        },
        "id": "Nm_kM7RIEe0Q",
        "outputId": "1d8e97c2-b472-4387-9d1a-e7e75776e8bc"
      },
      "execution_count": 8,
      "outputs": [
        {
          "output_type": "stream",
          "name": "stderr",
          "text": [
            "WARNING:absl:Compiled the loaded model, but the compiled metrics have yet to be built. `model.compile_metrics` will be empty until you train or evaluate the model.\n"
          ]
        },
        {
          "output_type": "stream",
          "name": "stdout",
          "text": [
            "Adversarially Trained Model Accuracy on Adversarial Examples:\n",
            "\u001b[1m313/313\u001b[0m \u001b[32m━━━━━━━━━━━━━━━━━━━━\u001b[0m\u001b[37m\u001b[0m \u001b[1m1s\u001b[0m 1ms/step - accuracy: 0.4932 - loss: 1.4801\n",
            "Masked Model Accuracy on Adversarial Examples:\n",
            "\u001b[1m313/313\u001b[0m \u001b[32m━━━━━━━━━━━━━━━━━━━━\u001b[0m\u001b[37m\u001b[0m \u001b[1m1s\u001b[0m 1ms/step - accuracy: 0.6211 - loss: 1.4467\n",
            "Regularized Model Accuracy on Adversarial Examples:\n",
            "\u001b[1m313/313\u001b[0m \u001b[32m━━━━━━━━━━━━━━━━━━━━\u001b[0m\u001b[37m\u001b[0m \u001b[1m1s\u001b[0m 1ms/step - accuracy: 0.6816 - loss: 1.1304\n"
          ]
        }
      ]
    },
    {
      "cell_type": "markdown",
      "source": [
        "### **Результаты**"
      ],
      "metadata": {
        "id": "nxZZiQ9rLiqh"
      }
    },
    {
      "cell_type": "markdown",
      "source": [
        "**Adversarial Training (Точность: 49.32%, Потери: 1.4801):** Модель, обученная на противоречивых примерах, демонстрирует умеренную устойчивость к FGSM-атакам. Хотя её точность выше, чем у модели с градиентной маскировкой, потери остаются высокими, что указывает на эффективность Adversarial Training, но также на его ограниченность в отношении более сложных или неизвестных атак.\n",
        "\n",
        "**Gradient Masking (Точность: 62.11%, Потери: 1.4467):** Модель с градиентной маскировкой показывает немного меньшую точность и более высокие потери по сравнению с Adversarial Training. Это подтверждает, что Gradient Masking усложняет создание атак, но не устраняет их полностью. Метод может оказаться уязвимым к адаптивным атакам, которые могут обойти градиентные ограничения.\n",
        "\n",
        "**Регуляризация и нормализация (Точность: 68.16%, Потери: 1.1304):** Модель с регуляризацией и нормализацией достигает наивысшей точности среди всех методов защиты, однако и потери у неё самые большие. Это свидетельствует о её способности лучше классифицировать атакованные примеры, но за счет высоких потерь. Данный метод может быть полезен в ситуациях, где критична точность, но не требуется строгое подавление атак.\n",
        "\n",
        "**Лучший результат по точности:** Метод регуляризации и нормализации достигает 68.16%. Тем не менее, высокие потери указывают на то, что модель не полностью устойчива к FGSM-атакам.\n",
        "\n",
        "**Умеренная устойчивость:** Adversarial Training предлагает сбалансированную защиту с точностью 62.11% и умеренными потерями.\n",
        "\n",
        "**Ограниченная эффективность:** Gradient Masking демонстрирует чуть меньшую точность (49.32%) и немного большие потери (1.4801) по сравнению с Adversarial Training."
      ],
      "metadata": {
        "id": "3xcaLLKaL0wN"
      }
    }
  ]
}